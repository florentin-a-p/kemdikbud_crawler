{
 "cells": [
  {
   "cell_type": "markdown",
   "metadata": {},
   "source": [
    "* add for SMA and other data\n",
    "* add the button\n",
    "* add so that the different province data can be in 1 workbook but in different spreadsheet\n",
    "* make it so that the data's columns are just like what's in the web (for this, will have to understand the th and td)"
   ]
  },
  {
   "cell_type": "markdown",
   "metadata": {},
   "source": [
    "# Import Library"
   ]
  },
  {
   "cell_type": "code",
   "execution_count": 1,
   "metadata": {},
   "outputs": [],
   "source": [
    "import selenium\n",
    "import csv\n",
    "from selenium import webdriver\n",
    "from scrapy.selector import Selector"
   ]
  },
  {
   "cell_type": "code",
   "execution_count": 2,
   "metadata": {},
   "outputs": [],
   "source": [
    "import csv\n",
    "from bs4 import BeautifulSoup as bs\n",
    "from time import sleep\n",
    "import pandas as pd\n",
    "import numpy as np"
   ]
  },
  {
   "cell_type": "code",
   "execution_count": 3,
   "metadata": {},
   "outputs": [],
   "source": [
    "from selenium import webdriver  \n",
    "from selenium.webdriver.common.keys import Keys  \n",
    "from selenium.webdriver.chrome.options import Options"
   ]
  },
  {
   "cell_type": "markdown",
   "metadata": {},
   "source": [
    "get whole raw data"
   ]
  },
  {
   "cell_type": "code",
   "execution_count": 4,
   "metadata": {},
   "outputs": [],
   "source": [
    "def get_raw_data(url_str):\n",
    "    driver = webdriver.Chrome('/Users/flo_anggi/Documents/going_headless/chromedriver')\n",
    "    driver.get(url_str)\n",
    "    \n",
    "    while True:\n",
    "        try :\n",
    "            driver.find_element_by_class_name(\"btn-tab.btn-dist\").click()\n",
    "            break\n",
    "        except:\n",
    "            pass\n",
    "    \n",
    "    html_str = driver.find_elements_by_id(\"myTableData\")[1].get_attribute(\"outerHTML\")\n",
    "    soup = bs(html_str.encode(),'html.parser')\n",
    "    \n",
    "    return soup\n"
   ]
  },
  {
   "cell_type": "markdown",
   "metadata": {},
   "source": [
    "get whole raw data into correct data types understood by english excel"
   ]
  },
  {
   "cell_type": "code",
   "execution_count": 5,
   "metadata": {},
   "outputs": [],
   "source": [
    "def convert_num_with_dots(num):\n",
    "    if num == '-':\n",
    "        return np.nan\n",
    "    elif '.' in num:\n",
    "        return float(num)*1000\n",
    "    else:\n",
    "        return int(num)\n",
    "\n",
    "def convert_num_with_commas(num):\n",
    "    if num == '-':\n",
    "        return np.nan\n",
    "    elif ',' in num:\n",
    "        return float(num.replace(',','.'))\n",
    "    else:\n",
    "        return int(num)\n",
    "\n",
    "def get_clean_data(soup):\n",
    "    index = []\n",
    "    df = pd.DataFrame({})\n",
    "    i = 0\n",
    "\n",
    "    for tr in soup.find_all(\"tr\")[3:]:\n",
    "        data = []\n",
    "        index.append(tr.find_all(\"td\")[0].text.strip())\n",
    "        for td in tr.find_all(\"td\")[1:]:\n",
    "            data.append(td.text.strip())\n",
    "        df[index[i]] = data\n",
    "        i = i+1\n",
    "        \n",
    "    arrays = [['Bahasa Indonesia','Bahasa Indonesia','Bahasa Inggris','Bahasa Inggris'\n",
    "            ,'Matematika','Matematika','IPA','IPA'\n",
    "            ,'Semua Mata Pelajaran','Semua Mata Pelajaran']\n",
    "           ,['Jumlah','%','Jumlah','%','Jumlah','%','Jumlah','%','Jumlah','%']]\n",
    "    \n",
    "    df_clean = df.set_index(pd.MultiIndex.from_arrays(arrays)).transpose()\n",
    "    \n",
    "    list_cols = ['Bahasa Indonesia','Bahasa Inggris','Matematika','IPA','Semua Mata Pelajaran']\n",
    "    dot_col = 'Jumlah'\n",
    "    comma_col = '%'\n",
    "\n",
    "    for col in list_cols:\n",
    "        df_clean.loc[:, (col,comma_col)] = df_clean.loc[:, (col,comma_col)].apply(convert_num_with_commas)\n",
    "        df_clean.loc[:, (col,dot_col)] = df_clean.loc[:, (col,dot_col)].apply(convert_num_with_dots)\n",
    "    \n",
    "    return df_clean"
   ]
  },
  {
   "cell_type": "markdown",
   "metadata": {},
   "source": [
    "get della's request:\n",
    "* group the ones with <=55 and the ones with >55\n",
    "* get only maths and bahasa indonesia"
   ]
  },
  {
   "cell_type": "code",
   "execution_count": 6,
   "metadata": {},
   "outputs": [],
   "source": [
    "def get_filtered_data(data,score_range,lessons):\n",
    "    list_col = []\n",
    "    for lesson in lessons:\n",
    "        list_col.append((lesson,'Jumlah'))\n",
    "        list_col.append((lesson,'%'))\n",
    "\n",
    "    score_range_idx = list(data.index).index(score_range)\n",
    "    score_range_bottom = list(data.index)[score_range_idx+1]\n",
    "\n",
    "    data_fin = pd.DataFrame(columns=list_col,index=[score_range,score_range_bottom])\n",
    "    data_fin.columns = pd.MultiIndex.from_tuples(data_fin.columns)\n",
    "    \n",
    "    for lesson in lessons:\n",
    "        sum_all = data[lesson]['Jumlah'].sum()\n",
    "        sum_upper = data[:score_range][lesson]['Jumlah'].sum()\n",
    "        sum_bottom = data[score_range:].drop(index=score_range)[lesson]['Jumlah'].sum()\n",
    "\n",
    "        data_fin.loc[score_range, (lesson,'Jumlah')] = sum_upper\n",
    "        data_fin.loc[score_range, (lesson,'%')] = sum_upper/sum_all\n",
    "\n",
    "        data_fin.loc[score_range_bottom, (lesson,'Jumlah')] = sum_bottom\n",
    "        data_fin.loc[score_range_bottom, (lesson,'%')] = sum_bottom/sum_all\n",
    "        \n",
    "        index_upper = '0.00-'+score_range.split('-')[1]\n",
    "        index_bottom = score_range_bottom.split('-')[0]+'-60.00'\n",
    "        \n",
    "    return data_fin.set_index(pd.Index([index_upper,index_bottom]))"
   ]
  },
  {
   "cell_type": "markdown",
   "metadata": {},
   "source": [
    "write it all into multiple spreadsheets in one workbook"
   ]
  },
  {
   "cell_type": "code",
   "execution_count": 7,
   "metadata": {},
   "outputs": [],
   "source": [
    "# education level: smp, sma, smk, paketb, paketc\n",
    "\n",
    "def get_url(province_code,education_level):\n",
    "    if province_code < 10:\n",
    "        url_str = 'https://hasilun.puspendik.kemdikbud.go.id/#2019!'+education_level+'!capaian_wilayah!0'+str(province_code)+'&99&999!T&T&T&T&1&!2!&'\n",
    "    elif province_code >= 10:\n",
    "        url_str = 'https://hasilun.puspendik.kemdikbud.go.id/#2019!'+education_level+'!capaian_wilayah!'+str(province_code)+'&99&999!T&T&T&T&1&!2!&'\n",
    "    return url_str\n",
    "        "
   ]
  },
  {
   "cell_type": "code",
   "execution_count": 8,
   "metadata": {},
   "outputs": [],
   "source": [
    "\"\"\"\n",
    "Cara pakai:\n",
    "* ganti education_level dengan: 'smp', 'sma', 'smk', 'paketb', 'paketc'\n",
    "* ganti score_range dengan nilai apapun yg ada di rentang nilai seperti di link, misal '10.01-15.00'\n",
    "* tambah dan kurangi lessons dengan apapun seperti 'Bahasa Indonesia', 'Matematika', 'Bahasa Inggris', 'IPA', 'Semua Mata Pelajaran'\n",
    "* ganti rentang province_code dengan angka apapun antara 1 sampai 34\n",
    "\n",
    "\"\"\"\n",
    "\n",
    "education_level = 'smp'\n",
    "score_range = '50.01-55.00'\n",
    "lessons = ['Bahasa Indonesia','Matematika']\n",
    "\n",
    "writer = pd.ExcelWriter('della_all_nilai_smp.xlsx', engine='xlsxwriter')\n",
    "\n",
    "for province_code in range(1,35):\n",
    "# for province_code in range(1,4):\n",
    "    url_str = get_url(province_code,education_level)\n",
    "    soup = get_raw_data(url_str)\n",
    "    data = get_clean_data(soup)\n",
    "    filter_data = get_filtered_data(data,score_range,lessons)\n",
    "    filter_data.to_excel(writer,sheet_name = 'provinsi_'+str(province_code))\n",
    "#     data.to_excel(writer,sheet_name = 'provinsi_'+str(province_code))\n",
    "\n",
    "writer.save()"
   ]
  }
 ],
 "metadata": {
  "kernelspec": {
   "display_name": "Python 3",
   "language": "python",
   "name": "python3"
  },
  "language_info": {
   "codemirror_mode": {
    "name": "ipython",
    "version": 3
   },
   "file_extension": ".py",
   "mimetype": "text/x-python",
   "name": "python",
   "nbconvert_exporter": "python",
   "pygments_lexer": "ipython3",
   "version": "3.7.2"
  }
 },
 "nbformat": 4,
 "nbformat_minor": 2
}
